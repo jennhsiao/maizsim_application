{
 "cells": [
  {
   "cell_type": "markdown",
   "metadata": {},
   "source": [
    "## Assessing Climate Impacts on Maize Yield with a Process-based Model"
   ]
  },
  {
   "cell_type": "markdown",
   "metadata": {},
   "source": [
    "#### Step 1: Read in simaultion output files\n",
    "Choose your favorite location to analyze maize yield:\n",
    "- Nebraska (Neb)\n",
    "- Ohio (Ohi)\n",
    "- Iowa (Iow)\n",
    "- Oklahoma (Okl)"
   ]
  },
  {
   "cell_type": "code",
   "execution_count": 10,
   "metadata": {},
   "outputs": [],
   "source": [
    "# Load in some useful packages\n",
    "import pandas as pd\n",
    "import numpy as np\n",
    "import matplotlib.pyplot as plt\n",
    "%matplotlib inline"
   ]
  },
  {
   "cell_type": "code",
   "execution_count": 11,
   "metadata": {},
   "outputs": [],
   "source": [
    "# Read in data files from your location of interest\n",
    "ohi_control = pd.read_csv('data/Ohi_Control.csv', index_col='date', parse_dates=True)\n",
    "ohi_temp = pd.read_csv('data/Ohi_Temp.csv', index_col='date', parse_dates=True)\n",
    "ohi_vpd = pd.read_csv('data/Ohi_VPD.csv', index_col='date', parse_dates=True)\n",
    "ohi_co2 = pd.read_csv('data/Ohi_CO2.csv', index_col='date', parse_dates=True)\n",
    "ohi_all = pd.read_csv('data/Ohi_All.csv', index_col='date', parse_dates=True)"
   ]
  },
  {
   "cell_type": "code",
   "execution_count": 4,
   "metadata": {},
   "outputs": [
    {
     "data": {
      "text/html": [
       "<div>\n",
       "<style scoped>\n",
       "    .dataframe tbody tr th:only-of-type {\n",
       "        vertical-align: middle;\n",
       "    }\n",
       "\n",
       "    .dataframe tbody tr th {\n",
       "        vertical-align: top;\n",
       "    }\n",
       "\n",
       "    .dataframe thead th {\n",
       "        text-align: right;\n",
       "    }\n",
       "</style>\n",
       "<table border=\"1\" class=\"dataframe\">\n",
       "  <thead>\n",
       "    <tr style=\"text-align: right;\">\n",
       "      <th></th>\n",
       "      <th>jday</th>\n",
       "      <th>time</th>\n",
       "      <th>Leaves</th>\n",
       "      <th>Dropped</th>\n",
       "      <th>LA/pl</th>\n",
       "      <th>LA_dead</th>\n",
       "      <th>LAI</th>\n",
       "      <th>RH</th>\n",
       "      <th>LeafWP</th>\n",
       "      <th>PFD</th>\n",
       "      <th>...</th>\n",
       "      <th>GrleafDM</th>\n",
       "      <th>DrpLfDM</th>\n",
       "      <th>stemDM</th>\n",
       "      <th>rootDM</th>\n",
       "      <th>SoilRt</th>\n",
       "      <th>MxRtDep</th>\n",
       "      <th>AvailW</th>\n",
       "      <th>solubleC</th>\n",
       "      <th>Note</th>\n",
       "      <th>Unnamed: 49</th>\n",
       "    </tr>\n",
       "    <tr>\n",
       "      <th>date</th>\n",
       "      <th></th>\n",
       "      <th></th>\n",
       "      <th></th>\n",
       "      <th></th>\n",
       "      <th></th>\n",
       "      <th></th>\n",
       "      <th></th>\n",
       "      <th></th>\n",
       "      <th></th>\n",
       "      <th></th>\n",
       "      <th></th>\n",
       "      <th></th>\n",
       "      <th></th>\n",
       "      <th></th>\n",
       "      <th></th>\n",
       "      <th></th>\n",
       "      <th></th>\n",
       "      <th></th>\n",
       "      <th></th>\n",
       "      <th></th>\n",
       "      <th></th>\n",
       "    </tr>\n",
       "  </thead>\n",
       "  <tbody>\n",
       "    <tr>\n",
       "      <th>2011-05-15</th>\n",
       "      <td>40618</td>\n",
       "      <td>0</td>\n",
       "      <td>0.0</td>\n",
       "      <td>0</td>\n",
       "      <td>0.0</td>\n",
       "      <td>0.0</td>\n",
       "      <td>0.0</td>\n",
       "      <td>98.7</td>\n",
       "      <td>-0.05</td>\n",
       "      <td>0.0</td>\n",
       "      <td>...</td>\n",
       "      <td>0.17</td>\n",
       "      <td>0.0</td>\n",
       "      <td>0.02</td>\n",
       "      <td>0.0</td>\n",
       "      <td>0.176</td>\n",
       "      <td>0.0</td>\n",
       "      <td>75.459</td>\n",
       "      <td>0.0</td>\n",
       "      <td>none</td>\n",
       "      <td>14.46</td>\n",
       "    </tr>\n",
       "    <tr>\n",
       "      <th>2011-05-15</th>\n",
       "      <td>40618</td>\n",
       "      <td>1</td>\n",
       "      <td>0.0</td>\n",
       "      <td>0</td>\n",
       "      <td>0.0</td>\n",
       "      <td>0.0</td>\n",
       "      <td>0.0</td>\n",
       "      <td>100.0</td>\n",
       "      <td>-0.05</td>\n",
       "      <td>0.0</td>\n",
       "      <td>...</td>\n",
       "      <td>0.17</td>\n",
       "      <td>0.0</td>\n",
       "      <td>0.02</td>\n",
       "      <td>0.0</td>\n",
       "      <td>0.176</td>\n",
       "      <td>195.4</td>\n",
       "      <td>75.210</td>\n",
       "      <td>0.0</td>\n",
       "      <td>none</td>\n",
       "      <td>14.46</td>\n",
       "    </tr>\n",
       "    <tr>\n",
       "      <th>2011-05-15</th>\n",
       "      <td>40618</td>\n",
       "      <td>2</td>\n",
       "      <td>0.0</td>\n",
       "      <td>0</td>\n",
       "      <td>0.0</td>\n",
       "      <td>0.0</td>\n",
       "      <td>0.0</td>\n",
       "      <td>100.0</td>\n",
       "      <td>-0.05</td>\n",
       "      <td>0.0</td>\n",
       "      <td>...</td>\n",
       "      <td>0.17</td>\n",
       "      <td>0.0</td>\n",
       "      <td>0.02</td>\n",
       "      <td>0.0</td>\n",
       "      <td>0.176</td>\n",
       "      <td>195.4</td>\n",
       "      <td>72.358</td>\n",
       "      <td>0.0</td>\n",
       "      <td>none</td>\n",
       "      <td>14.46</td>\n",
       "    </tr>\n",
       "    <tr>\n",
       "      <th>2011-05-15</th>\n",
       "      <td>40618</td>\n",
       "      <td>3</td>\n",
       "      <td>0.0</td>\n",
       "      <td>0</td>\n",
       "      <td>0.0</td>\n",
       "      <td>0.0</td>\n",
       "      <td>0.0</td>\n",
       "      <td>100.0</td>\n",
       "      <td>-0.05</td>\n",
       "      <td>0.0</td>\n",
       "      <td>...</td>\n",
       "      <td>0.17</td>\n",
       "      <td>0.0</td>\n",
       "      <td>0.02</td>\n",
       "      <td>0.0</td>\n",
       "      <td>0.176</td>\n",
       "      <td>195.4</td>\n",
       "      <td>70.891</td>\n",
       "      <td>0.0</td>\n",
       "      <td>none</td>\n",
       "      <td>14.46</td>\n",
       "    </tr>\n",
       "    <tr>\n",
       "      <th>2011-05-15</th>\n",
       "      <td>40618</td>\n",
       "      <td>4</td>\n",
       "      <td>0.0</td>\n",
       "      <td>0</td>\n",
       "      <td>0.0</td>\n",
       "      <td>0.0</td>\n",
       "      <td>0.0</td>\n",
       "      <td>100.0</td>\n",
       "      <td>-0.05</td>\n",
       "      <td>0.0</td>\n",
       "      <td>...</td>\n",
       "      <td>0.17</td>\n",
       "      <td>0.0</td>\n",
       "      <td>0.02</td>\n",
       "      <td>0.0</td>\n",
       "      <td>0.176</td>\n",
       "      <td>195.4</td>\n",
       "      <td>69.882</td>\n",
       "      <td>0.0</td>\n",
       "      <td>none</td>\n",
       "      <td>14.46</td>\n",
       "    </tr>\n",
       "  </tbody>\n",
       "</table>\n",
       "<p>5 rows × 49 columns</p>\n",
       "</div>"
      ],
      "text/plain": [
       "             jday  time  Leaves  Dropped  LA/pl  LA_dead  LAI     RH  LeafWP  \\\n",
       "date                                                                           \n",
       "2011-05-15  40618     0     0.0        0    0.0      0.0  0.0   98.7   -0.05   \n",
       "2011-05-15  40618     1     0.0        0    0.0      0.0  0.0  100.0   -0.05   \n",
       "2011-05-15  40618     2     0.0        0    0.0      0.0  0.0  100.0   -0.05   \n",
       "2011-05-15  40618     3     0.0        0    0.0      0.0  0.0  100.0   -0.05   \n",
       "2011-05-15  40618     4     0.0        0    0.0      0.0  0.0  100.0   -0.05   \n",
       "\n",
       "            PFD  ...  GrleafDM  DrpLfDM  stemDM  rootDM  SoilRt  MxRtDep  \\\n",
       "date             ...                                                       \n",
       "2011-05-15  0.0  ...      0.17      0.0    0.02     0.0   0.176      0.0   \n",
       "2011-05-15  0.0  ...      0.17      0.0    0.02     0.0   0.176    195.4   \n",
       "2011-05-15  0.0  ...      0.17      0.0    0.02     0.0   0.176    195.4   \n",
       "2011-05-15  0.0  ...      0.17      0.0    0.02     0.0   0.176    195.4   \n",
       "2011-05-15  0.0  ...      0.17      0.0    0.02     0.0   0.176    195.4   \n",
       "\n",
       "            AvailW  solubleC  Note  Unnamed: 49  \n",
       "date                                             \n",
       "2011-05-15  75.459       0.0  none        14.46  \n",
       "2011-05-15  75.210       0.0  none        14.46  \n",
       "2011-05-15  72.358       0.0  none        14.46  \n",
       "2011-05-15  70.891       0.0  none        14.46  \n",
       "2011-05-15  69.882       0.0  none        14.46  \n",
       "\n",
       "[5 rows x 49 columns]"
      ]
     },
     "execution_count": 4,
     "metadata": {},
     "output_type": "execute_result"
    }
   ],
   "source": [
    "# Take a look at the data format of the simulation outputs\n",
    "ohi_control.head()"
   ]
  },
  {
   "cell_type": "markdown",
   "metadata": {},
   "source": [
    "#### Step 2: Plot out some raw model outpus"
   ]
  },
  {
   "cell_type": "markdown",
   "metadata": {},
   "source": [
    "Look at how biomass of different plant parts change throuhout the growing season"
   ]
  },
  {
   "cell_type": "code",
   "execution_count": 55,
   "metadata": {},
   "outputs": [
    {
     "data": {
      "text/plain": [
       "Text(2011-09-15, 155, 'shoot')"
      ]
     },
     "execution_count": 55,
     "metadata": {},
     "output_type": "execute_result"
    },
    {
     "data": {
      "image/png": "[encoded data removed]",
      "text/plain": [
       "<Figure size 360x288 with 1 Axes>"
      ]
     },
     "metadata": {
      "needs_background": "light"
     },
     "output_type": "display_data"
    }
   ],
   "source": [
    "fig, ax = plt.subplots(figsize=(5,4))\n",
    "\n",
    "ax.plot(ohi_control.rootDM, color='black', linewidth=1)\n",
    "ax.plot(ohi_control.shootDM, color='black', linewidth=1)\n",
    "ax.plot(ohi_control.GrleafDM, color='black', linewidth=1)\n",
    "ax.plot(ohi_control.earDM, color='black', linewidth=1)\n",
    "ax.set(xlim=('2011-05-15', '2011-10-15'), ylim=(0,180))\n",
    "ax.set_ylabel('biomass (g)')\n",
    "ax.yaxis.set_ticks(np.arange(0,180,40))\n",
    "ax.tick_params(axis='x', rotation=45)\n",
    "\n",
    "plt.text('2011-09-15', 12, 'root')\n",
    "plt.text('2011-09-15', 40, 'leaf')\n",
    "plt.text('2011-09-15', 105, 'ear')\n",
    "plt.text('2011-09-15', 155, 'shoot')\n"
   ]
  },
  {
   "cell_type": "markdown",
   "metadata": {},
   "source": [
    "Look at how several morphological and physiological parameters change throughout the growing season"
   ]
  },
  {
   "cell_type": "code",
   "execution_count": 54,
   "metadata": {},
   "outputs": [
    {
     "data": {
      "image/png": "[encoded data removed]",
      "text/plain": [
       "<Figure size 576x432 with 4 Axes>"
      ]
     },
     "metadata": {
      "needs_background": "light"
     },
     "output_type": "display_data"
    }
   ],
   "source": [
    "fig, axs = plt.subplots(2,2, figsize=(8,6), tight_layout=True)\n",
    "\n",
    "axs[0,0].plot(ohi_control['LA/pl'], color='black', linewidth=1)\n",
    "axs[0,0].set(xlim=('2011-05-15', '2011-10-15'))\n",
    "axs[0,0].tick_params(axis='x', rotation=45)\n",
    "axs[0,0].title.set_text('green leaf area per plant')\n",
    "\n",
    "axs[0,1].plot(ohi_control.LeafWP, color='black', linewidth=1)\n",
    "axs[0,1].set(xlim=('2011-05-15', '2011-10-15'))\n",
    "axs[0,1].tick_params(axis='x', rotation=45)\n",
    "axs[0,1].title.set_text('predawn leaf water potential')\n",
    "\n",
    "axs[1,0].plot(ohi_control.av_gs, color='black', linewidth=1)\n",
    "axs[1,0].set(xlim=('2011-05-15', '2011-10-15'))\n",
    "axs[1,0].tick_params(axis='x', rotation=45)\n",
    "axs[1,0].title.set_text('stomatal conductance')\n",
    "\n",
    "axs[1,1].plot(ohi_control.Pn, color='black', linewidth=1)\n",
    "axs[1,1].set(xlim=('2011-05-15', '2011-10-15'))\n",
    "axs[1,1].tick_params(axis='x', rotation=45)\n",
    "axs[1,1].title.set_text('stomatal conductance')\n"
   ]
  },
  {
   "cell_type": "markdown",
   "metadata": {},
   "source": [
    "#### Step 3: Take a finer look at the model outputs\n",
    "There are several ways you can further process the model outputs. <br> \n",
    "For some outputs, further process is necessary since the hourly model output can be very noisy. <br>\n",
    "Averaging is a simple way to make sense of these kind of outptus. Here are a couple options:\n",
    "- Take a daily mean\n",
    "- Take a monthly mean\n",
    "- Take the mean across the whole growing season\n",
    "- Average over a specific phenological stage. \n",
    "\n",
    "The model output keeps track of the developmental stages in the last column titled \"Notes\". <br> \n",
    "The different stages include:\n",
    "    - Emerged\n",
    "    - Tasselinit (tassel initiaiton)\n",
    "    - Silked\n",
    "    - Grainfill (grain filling)\n",
    "    - Maturation\n",
    "    \n",
    "Summing values over a period of time (daily, monthly, growing season, developmental stage) is also a good option for certain outputs. Sometime, looking at a certain time in the day can be useful as well. For example, analyzing leaf water potential outptus at 5am as a rough estimate of \"predawn leaf water potential\""
   ]
  },
  {
   "cell_type": "code",
   "execution_count": null,
   "metadata": {},
   "outputs": [],
   "source": []
  },
  {
   "cell_type": "code",
   "execution_count": null,
   "metadata": {},
   "outputs": [],
   "source": []
  },
  {
   "cell_type": "code",
   "execution_count": null,
   "metadata": {},
   "outputs": [],
   "source": []
  },
  {
   "cell_type": "markdown",
   "metadata": {},
   "source": [
    "#### Bonus: Further exploration \n",
    "There are so many ways you can explore these model outputs. <br> \n",
    "Linking related model outputs together, comparing values throuhout different developmental stages, <br>\n",
    "comparing between simulation sites, looking into interaction terms etc. \n",
    "Get creative, and have fun with the data!"
   ]
  }
 ],
 "metadata": {
  "kernelspec": {
   "display_name": "Python 3",
   "language": "python",
   "name": "python3"
  },
  "language_info": {
   "codemirror_mode": {
    "name": "ipython",
    "version": 3
   },
   "file_extension": ".py",
   "mimetype": "text/x-python",
   "name": "python",
   "nbconvert_exporter": "python",
   "pygments_lexer": "ipython3",
   "version": "3.7.3"
  }
 },
 "nbformat": 4,
 "nbformat_minor": 2
}
