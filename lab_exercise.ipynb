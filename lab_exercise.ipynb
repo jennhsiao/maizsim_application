{
 "cells": [
  {
   "cell_type": "markdown",
   "metadata": {},
   "source": [
    "## Assessing Climate Impacts on Maize Yield with a Process-based Model"
   ]
  },
  {
   "cell_type": "markdown",
   "metadata": {},
   "source": [
    "#### Step 1: Read in simaultion output files\n",
    "Choose your favorite location to analyze maize yield:\n",
    "- Nebraska (Neb)\n",
    "- Ohio (Ohi)\n",
    "- Iowa (Iow)\n",
    "- Oklahoma (Okl)"
   ]
  },
  {
   "cell_type": "code",
   "execution_count": 10,
   "metadata": {},
   "outputs": [],
   "source": [
    "# Load in some useful packages\n",
    "import pandas as pd\n",
    "import numpy as np\n",
    "import matplotlib.pyplot as plt\n",
    "%matplotlib inline"
   ]
  },
  {
   "cell_type": "code",
   "execution_count": 11,
   "metadata": {},
   "outputs": [],
   "source": [
    "# Read in data files from your location of interest\n",
    "ohi_control = pd.read_csv('data/Ohi_Control.csv', index_col='date', parse_dates=True)\n",
    "ohi_temp = pd.read_csv('data/Ohi_Temp.csv', index_col='date', parse_dates=True)\n",
    "ohi_vpd = pd.read_csv('data/Ohi_VPD.csv', index_col='date', parse_dates=True)\n",
    "ohi_co2 = pd.read_csv('data/Ohi_CO2.csv', index_col='date', parse_dates=True)\n",
    "ohi_all = pd.read_csv('data/Ohi_All.csv', index_col='date', parse_dates=True)"
   ]
  },
  {
   "cell_type": "code",
   "execution_count": 4,
   "metadata": {},
   "outputs": [
    {
     "data": {
      "text/html": [
       "<div>\n",
       "<style scoped>\n",
       "    .dataframe tbody tr th:only-of-type {\n",
       "        vertical-align: middle;\n",
       "    }\n",
       "\n",
       "    .dataframe tbody tr th {\n",
       "        vertical-align: top;\n",
       "    }\n",
       "\n",
       "    .dataframe thead th {\n",
       "        text-align: right;\n",
       "    }\n",
       "</style>\n",
       "<table border=\"1\" class=\"dataframe\">\n",
       "  <thead>\n",
       "    <tr style=\"text-align: right;\">\n",
       "      <th></th>\n",
       "      <th>jday</th>\n",
       "      <th>time</th>\n",
       "      <th>Leaves</th>\n",
       "      <th>Dropped</th>\n",
       "      <th>LA/pl</th>\n",
       "      <th>LA_dead</th>\n",
       "      <th>LAI</th>\n",
       "      <th>RH</th>\n",
       "      <th>LeafWP</th>\n",
       "      <th>PFD</th>\n",
       "      <th>...</th>\n",
       "      <th>GrleafDM</th>\n",
       "      <th>DrpLfDM</th>\n",
       "      <th>stemDM</th>\n",
       "      <th>rootDM</th>\n",
       "      <th>SoilRt</th>\n",
       "      <th>MxRtDep</th>\n",
       "      <th>AvailW</th>\n",
       "      <th>solubleC</th>\n",
       "      <th>Note</th>\n",
       "      <th>Unnamed: 49</th>\n",
       "    </tr>\n",
       "    <tr>\n",
       "      <th>date</th>\n",
       "      <th></th>\n",
       "      <th></th>\n",
       "      <th></th>\n",
       "      <th></th>\n",
       "      <th></th>\n",
       "      <th></th>\n",
       "      <th></th>\n",
       "      <th></th>\n",
       "      <th></th>\n",
       "      <th></th>\n",
       "      <th></th>\n",
       "      <th></th>\n",
       "      <th></th>\n",
       "      <th></th>\n",
       "      <th></th>\n",
       "      <th></th>\n",
       "      <th></th>\n",
       "      <th></th>\n",
       "      <th></th>\n",
       "      <th></th>\n",
       "      <th></th>\n",
       "    </tr>\n",
       "  </thead>\n",
       "  <tbody>\n",
       "    <tr>\n",
       "      <th>2011-05-15</th>\n",
       "      <td>40618</td>\n",
       "      <td>0</td>\n",
       "      <td>0.0</td>\n",
       "      <td>0</td>\n",
       "      <td>0.0</td>\n",
       "      <td>0.0</td>\n",
       "      <td>0.0</td>\n",
       "      <td>98.7</td>\n",
       "      <td>-0.05</td>\n",
       "      <td>0.0</td>\n",
       "      <td>...</td>\n",
       "      <td>0.17</td>\n",
       "      <td>0.0</td>\n",
       "      <td>0.02</td>\n",
       "      <td>0.0</td>\n",
       "      <td>0.176</td>\n",
       "      <td>0.0</td>\n",
       "      <td>75.459</td>\n",
       "      <td>0.0</td>\n",
       "      <td>none</td>\n",
       "      <td>14.46</td>\n",
       "    </tr>\n",
       "    <tr>\n",
       "      <th>2011-05-15</th>\n",
       "      <td>40618</td>\n",
       "      <td>1</td>\n",
       "      <td>0.0</td>\n",
       "      <td>0</td>\n",
       "      <td>0.0</td>\n",
       "      <td>0.0</td>\n",
       "      <td>0.0</td>\n",
       "      <td>100.0</td>\n",
       "      <td>-0.05</td>\n",
       "      <td>0.0</td>\n",
       "      <td>...</td>\n",
       "      <td>0.17</td>\n",
       "      <td>0.0</td>\n",
       "      <td>0.02</td>\n",
       "      <td>0.0</td>\n",
       "      <td>0.176</td>\n",
       "      <td>195.4</td>\n",
       "      <td>75.210</td>\n",
       "      <td>0.0</td>\n",
       "      <td>none</td>\n",
       "      <td>14.46</td>\n",
       "    </tr>\n",
       "    <tr>\n",
       "      <th>2011-05-15</th>\n",
       "      <td>40618</td>\n",
       "      <td>2</td>\n",
       "      <td>0.0</td>\n",
       "      <td>0</td>\n",
       "      <td>0.0</td>\n",
       "      <td>0.0</td>\n",
       "      <td>0.0</td>\n",
       "      <td>100.0</td>\n",
       "      <td>-0.05</td>\n",
       "      <td>0.0</td>\n",
       "      <td>...</td>\n",
       "      <td>0.17</td>\n",
       "      <td>0.0</td>\n",
       "      <td>0.02</td>\n",
       "      <td>0.0</td>\n",
       "      <td>0.176</td>\n",
       "      <td>195.4</td>\n",
       "      <td>72.358</td>\n",
       "      <td>0.0</td>\n",
       "      <td>none</td>\n",
       "      <td>14.46</td>\n",
       "    </tr>\n",
       "    <tr>\n",
       "      <th>2011-05-15</th>\n",
       "      <td>40618</td>\n",
       "      <td>3</td>\n",
       "      <td>0.0</td>\n",
       "      <td>0</td>\n",
       "      <td>0.0</td>\n",
       "      <td>0.0</td>\n",
       "      <td>0.0</td>\n",
       "      <td>100.0</td>\n",
       "      <td>-0.05</td>\n",
       "      <td>0.0</td>\n",
       "      <td>...</td>\n",
       "      <td>0.17</td>\n",
       "      <td>0.0</td>\n",
       "      <td>0.02</td>\n",
       "      <td>0.0</td>\n",
       "      <td>0.176</td>\n",
       "      <td>195.4</td>\n",
       "      <td>70.891</td>\n",
       "      <td>0.0</td>\n",
       "      <td>none</td>\n",
       "      <td>14.46</td>\n",
       "    </tr>\n",
       "    <tr>\n",
       "      <th>2011-05-15</th>\n",
       "      <td>40618</td>\n",
       "      <td>4</td>\n",
       "      <td>0.0</td>\n",
       "      <td>0</td>\n",
       "      <td>0.0</td>\n",
       "      <td>0.0</td>\n",
       "      <td>0.0</td>\n",
       "      <td>100.0</td>\n",
       "      <td>-0.05</td>\n",
       "      <td>0.0</td>\n",
       "      <td>...</td>\n",
       "      <td>0.17</td>\n",
       "      <td>0.0</td>\n",
       "      <td>0.02</td>\n",
       "      <td>0.0</td>\n",
       "      <td>0.176</td>\n",
       "      <td>195.4</td>\n",
       "      <td>69.882</td>\n",
       "      <td>0.0</td>\n",
       "      <td>none</td>\n",
       "      <td>14.46</td>\n",
       "    </tr>\n",
       "  </tbody>\n",
       "</table>\n",
       "<p>5 rows × 49 columns</p>\n",
       "</div>"
      ],
      "text/plain": [
       "             jday  time  Leaves  Dropped  LA/pl  LA_dead  LAI     RH  LeafWP  \\\n",
       "date                                                                           \n",
       "2011-05-15  40618     0     0.0        0    0.0      0.0  0.0   98.7   -0.05   \n",
       "2011-05-15  40618     1     0.0        0    0.0      0.0  0.0  100.0   -0.05   \n",
       "2011-05-15  40618     2     0.0        0    0.0      0.0  0.0  100.0   -0.05   \n",
       "2011-05-15  40618     3     0.0        0    0.0      0.0  0.0  100.0   -0.05   \n",
       "2011-05-15  40618     4     0.0        0    0.0      0.0  0.0  100.0   -0.05   \n",
       "\n",
       "            PFD  ...  GrleafDM  DrpLfDM  stemDM  rootDM  SoilRt  MxRtDep  \\\n",
       "date             ...                                                       \n",
       "2011-05-15  0.0  ...      0.17      0.0    0.02     0.0   0.176      0.0   \n",
       "2011-05-15  0.0  ...      0.17      0.0    0.02     0.0   0.176    195.4   \n",
       "2011-05-15  0.0  ...      0.17      0.0    0.02     0.0   0.176    195.4   \n",
       "2011-05-15  0.0  ...      0.17      0.0    0.02     0.0   0.176    195.4   \n",
       "2011-05-15  0.0  ...      0.17      0.0    0.02     0.0   0.176    195.4   \n",
       "\n",
       "            AvailW  solubleC  Note  Unnamed: 49  \n",
       "date                                             \n",
       "2011-05-15  75.459       0.0  none        14.46  \n",
       "2011-05-15  75.210       0.0  none        14.46  \n",
       "2011-05-15  72.358       0.0  none        14.46  \n",
       "2011-05-15  70.891       0.0  none        14.46  \n",
       "2011-05-15  69.882       0.0  none        14.46  \n",
       "\n",
       "[5 rows x 49 columns]"
      ]
     },
     "execution_count": 4,
     "metadata": {},
     "output_type": "execute_result"
    }
   ],
   "source": [
    "# Take a look at the data format of the simulation outputs\n",
    "ohi_control.head()"
   ]
  },
  {
   "cell_type": "markdown",
   "metadata": {},
   "source": [
    "#### Step 2: Plot out some raw model outpus"
   ]
  },
  {
   "cell_type": "code",
   "execution_count": 13,
   "metadata": {},
   "outputs": [],
   "source": [
    "font = {'family': 'Helvetica',\n",
    "        'color':  'black',\n",
    "        'weight': 'normal',\n",
    "        'size': 12,\n",
    "        }"
   ]
  },
  {
   "cell_type": "code",
   "execution_count": 27,
   "metadata": {},
   "outputs": [
    {
     "data": {
      "text/plain": [
       "Text(2011-09-15, 155, 'shoot')"
      ]
     },
     "execution_count": 27,
     "metadata": {},
     "output_type": "execute_result"
    },
    {
     "data": {
      "image/png": "[encoded data removed]",
      "text/plain": [
       "<Figure size 360x288 with 1 Axes>"
      ]
     },
     "metadata": {
      "needs_background": "light"
     },
     "output_type": "display_data"
    }
   ],
   "source": [
    "fig, ax = plt.subplots(figsize=(5, 4), tight_layout=True)\n",
    "\n",
    "ax.plot(ohi_control.rootDM, color='black', linewidth=1)\n",
    "ax.plot(ohi_control.shootDM, color='black', linewidth=1)\n",
    "ax.plot(ohi_control.GrleafDM, color='black', linewidth=1)\n",
    "ax.plot(ohi_control.earDM, color='black', linewidth=1)\n",
    "ax.set(xlim=('2011-05-15', '2011-10-15'), ylim=(0,180))\n",
    "ax.set_ylabel('biomass (g)', fontdict=font)\n",
    "ax.yaxis.set_ticks(np.arange(0,180,40))\n",
    "ax.tick_params(axis='x', rotation=45)\n",
    "\n",
    "for tick in ax.get_xticklabels():\n",
    "    tick.set_fontname('Helvetica')    \n",
    "for tick in ax.get_yticklabels():\n",
    "    tick.set_fontname('Helvetica')\n",
    "\n",
    "\n",
    "#matplotlib.axes.Axes.set_xticklabels(ax, fontdict=font, rotation=45)\n",
    "\n",
    "plt.text('2011-09-15', 12, 'root', fontdict=font)\n",
    "plt.text('2011-09-15', 40, 'leaf', fontdict=font)\n",
    "plt.text('2011-09-15', 105, 'ear', fontdict=font)\n",
    "plt.text('2011-09-15', 155, 'shoot', fontdict=font)\n"
   ]
  },
  {
   "cell_type": "code",
   "execution_count": 31,
   "metadata": {},
   "outputs": [
    {
     "data": {
      "image/png": "[encoded data removed]",
      "text/plain": [
       "<Figure size 576x432 with 4 Axes>"
      ]
     },
     "metadata": {
      "needs_background": "light"
     },
     "output_type": "display_data"
    }
   ],
   "source": [
    "fig, axs = plt.subplots(2,2, figsize=(8,6), tight_layout=True)\n",
    "\n",
    "axs[0,0].plot(ohi_control['LA/pl'], color='black', linewidth=1)\n",
    "axs[0,0].set(xlim=('2011-05-15', '2011-10-15'))\n",
    "axs[0,0].tick_params(axis='x', rotation=45)\n",
    "\n",
    "axs[0,1].plot(ohi_control.LeafWP, color='black', linewidth=1)\n",
    "axs[0,1].set(xlim=('2011-05-15', '2011-10-15'))\n",
    "axs[0,1].tick_params(axis='x', rotation=45)\n"
   ]
  },
  {
   "cell_type": "code",
   "execution_count": 300,
   "metadata": {},
   "outputs": [
    {
     "data": {
      "text/plain": [
       "array([<matplotlib.axes._subplots.AxesSubplot object at 0x131602a90>,\n",
       "       <matplotlib.axes._subplots.AxesSubplot object at 0x1316255f8>],\n",
       "      dtype=object)"
      ]
     },
     "execution_count": 300,
     "metadata": {},
     "output_type": "execute_result"
    }
   ],
   "source": [
    "ax"
   ]
  },
  {
   "cell_type": "code",
   "execution_count": 286,
   "metadata": {},
   "outputs": [
    {
     "ename": "SyntaxError",
     "evalue": "invalid syntax (<ipython-input-286-e5b0058da8a0>, line 15)",
     "output_type": "error",
     "traceback": [
      "\u001b[0;36m  File \u001b[0;32m\"<ipython-input-286-e5b0058da8a0>\"\u001b[0;36m, line \u001b[0;32m15\u001b[0m\n\u001b[0;31m    ax2 = plt.subplot(222)\u001b[0m\n\u001b[0m      ^\u001b[0m\n\u001b[0;31mSyntaxError\u001b[0m\u001b[0;31m:\u001b[0m invalid syntax\n"
     ]
    }
   ],
   "source": [
    "fig, axs = plt.subplots(figsize=(8,6), tight_layout=True)\n",
    "\n",
    "for ax in axs:\n",
    "    ax.plot(ohi_control.rootDM)\n",
    "\n",
    "ax1 = plt.subplot(221)    \n",
    "ax1.plot(ohi_control.rootDM)\n",
    "ax1.set(xlim=('2011-05-15', '2011-10-15')\n",
    "#ax1.tick_params(axis='x', rotation=45)\n",
    "\n",
    "#ax1.xticks(rotation=45)\n",
    "#ax1.title('root dry mass')\n",
    "#ax1.xticks([])\n",
    "\n",
    "ax2 = plt.subplot(222)\n",
    "ax2.plot(ohi_control.GrleafDM)\n",
    "ax2.set(xlim=('2011-05-15', '2011-10-15')\n",
    "ax2.tick_params(axis='x', rotation=45)\n",
    "\n",
    "#ax2.title('Leaf dry mass')\n",
    "#ax2.xticks([])\n",
    "\n",
    "ax3 = plt.subplot(223)\n",
    "ax3.plot(ohi_control.shootDM)\n",
    "ax3.set(xlim=('2011-05-15', '2011-10-15')\n",
    "ax3.tick_params(axis='x', rotation=45)\n",
    "\n",
    "#ax3.title('shoot dry mass')\n",
    "\n",
    "ax4 = plt.subplot(224)\n",
    "ax4.plot(ohi_control.earDM)\n",
    "ax4.set(xlim=('2011-05-15', '2011-10-15')\n",
    "ax4.tick_params(axis='x', rotation=45)\n"
   ]
  },
  {
   "cell_type": "code",
   "execution_count": 65,
   "metadata": {},
   "outputs": [
    {
     "data": {
      "text/plain": [
       "Text(0.5, 1.0, 'leaf area per plant')"
      ]
     },
     "execution_count": 65,
     "metadata": {},
     "output_type": "execute_result"
    },
    {
     "data": {
      "image/png": "[encoded data removed]",
      "text/plain": [
       "<Figure size 432x288 with 1 Axes>"
      ]
     },
     "metadata": {
      "needs_background": "light"
     },
     "output_type": "display_data"
    }
   ],
   "source": [
    "plt.plot(ohi_control['LA/pl'])\n",
    "plt.xticks(rotation=45)\n",
    "plt.title('leaf area per plant')"
   ]
  },
  {
   "cell_type": "markdown",
   "metadata": {},
   "source": [
    "#### Step 3: Take a finer look at the model outputs\n",
    "There are several ways you can further process the model outputs. <br> \n",
    "For some outputs, further process is necessary since the hourly model output can be very noisy. <br>\n",
    "Averaging is a simple way to make sense of these kind of outptus. Here are a couple options:\n",
    "- Take a daily mean\n",
    "- Take a monthly mean\n",
    "- Take the mean across the whole growing season\n",
    "- Average over a specific phenological stage. \n",
    "\n",
    "The model output keeps track of the developmental stages in the last column titled \"Notes\". <br> \n",
    "The different stages include:\n",
    "    - Emerged\n",
    "    - Tasselinit (tassel initiaiton)\n",
    "    - Silked\n",
    "    - Grainfill (grain filling)\n",
    "    - Maturation\n",
    "    \n",
    "Summing values over a period of time (daily, monthly, growing season, developmental stage) is also a good option for certain outputs. Sometime, looking at a certain time in the day can be useful as well. For example, analyzing leaf water potential outptus at 5am as a rough estimate of \"predawn leaf water potential\""
   ]
  },
  {
   "cell_type": "code",
   "execution_count": null,
   "metadata": {},
   "outputs": [],
   "source": []
  },
  {
   "cell_type": "code",
   "execution_count": null,
   "metadata": {},
   "outputs": [],
   "source": []
  },
  {
   "cell_type": "code",
   "execution_count": null,
   "metadata": {},
   "outputs": [],
   "source": []
  },
  {
   "cell_type": "markdown",
   "metadata": {},
   "source": [
    "#### Bonus: Further exploration \n",
    "There are so many ways you can explore these model outputs. <br> \n",
    "Linking related model outputs together, comparing values throuhout different developmental stages, <br>\n",
    "comparing between simulation sites, looking into interaction terms etc. \n",
    "Get creative, and have fun with the data!"
   ]
  }
 ],
 "metadata": {
  "kernelspec": {
   "display_name": "Python 3",
   "language": "python",
   "name": "python3"
  },
  "language_info": {
   "codemirror_mode": {
    "name": "ipython",
    "version": 3
   },
   "file_extension": ".py",
   "mimetype": "text/x-python",
   "name": "python",
   "nbconvert_exporter": "python",
   "pygments_lexer": "ipython3",
   "version": "3.7.3"
  }
 },
 "nbformat": 4,
 "nbformat_minor": 2
}
